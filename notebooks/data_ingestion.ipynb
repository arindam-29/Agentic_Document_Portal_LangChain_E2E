{
 "cells": [
  {
   "cell_type": "code",
   "execution_count": 1,
   "id": "1832aaa8",
   "metadata": {},
   "outputs": [],
   "source": [
    "import os\n",
    "import fitz\n",
    "import uuid\n",
    "from datetime import datetime\n",
    "from logger.custom_logger import CustomLogger\n",
    "from exception.custom_exception import DocumentPortalException"
   ]
  },
  {
   "cell_type": "code",
   "execution_count": null,
   "id": "0eb5d3d8",
   "metadata": {},
   "outputs": [],
   "source": [
    "uploaded_file = \"data/cookbook.pdf\""
   ]
  },
  {
   "cell_type": "code",
   "execution_count": null,
   "id": "7675aa09",
   "metadata": {},
   "outputs": [],
   "source": [
    "filename = os.path.basename(uploaded_file.name)\n",
    "\n",
    "# if not filename.lower().endswith(\".pdf\"):\n",
    "#     raise DocumentPortalException(\"Invalid file type. Only PDFs are allowed.\")\n",
    "\n",
    "# save_path = os.path.join(session_path, filename)\n",
    "\n",
    "# with open(save_path, \"wb\") as f:\n",
    "#     f.write(uploaded_file.getbuffer())"
   ]
  },
  {
   "cell_type": "code",
   "execution_count": null,
   "id": "f3fe8d39",
   "metadata": {},
   "outputs": [],
   "source": []
  },
  {
   "cell_type": "code",
   "execution_count": null,
   "id": "5eaa6c07",
   "metadata": {},
   "outputs": [],
   "source": []
  },
  {
   "cell_type": "code",
   "execution_count": null,
   "id": "b2e35616",
   "metadata": {},
   "outputs": [],
   "source": []
  },
  {
   "cell_type": "code",
   "execution_count": null,
   "id": "22e2d1a7",
   "metadata": {},
   "outputs": [],
   "source": []
  },
  {
   "cell_type": "code",
   "execution_count": null,
   "id": "669aca57",
   "metadata": {},
   "outputs": [],
   "source": []
  },
  {
   "cell_type": "code",
   "execution_count": null,
   "id": "2e7d0b05",
   "metadata": {},
   "outputs": [],
   "source": []
  }
 ],
 "metadata": {
  "kernelspec": {
   "display_name": "docenv",
   "language": "python",
   "name": "python3"
  },
  "language_info": {
   "codemirror_mode": {
    "name": "ipython",
    "version": 3
   },
   "file_extension": ".py",
   "mimetype": "text/x-python",
   "name": "python",
   "nbconvert_exporter": "python",
   "pygments_lexer": "ipython3",
   "version": "3.12.0"
  }
 },
 "nbformat": 4,
 "nbformat_minor": 5
}

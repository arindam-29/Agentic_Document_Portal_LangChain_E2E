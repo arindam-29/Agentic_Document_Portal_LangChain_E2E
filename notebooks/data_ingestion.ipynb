{
 "cells": [
  {
   "cell_type": "code",
   "execution_count": 4,
   "id": "1832aaa8",
   "metadata": {},
   "outputs": [],
   "source": [
    "import os\n",
    "import fitz\n",
    "import uuid\n",
    "from datetime import datetime\n",
    "from logger.custom_logger import CustomLogger\n",
    "from exception.custom_exception import DocumentPortalException\n",
    "\n",
    "from pathlib import Path\n",
    "from io import BytesIO"
   ]
  },
  {
   "cell_type": "code",
   "execution_count": 5,
   "id": "0eb5d3d8",
   "metadata": {},
   "outputs": [],
   "source": [
    "uploaded_file = \"data/cookbook.pdf\""
   ]
  },
  {
   "cell_type": "code",
   "execution_count": 6,
   "id": "41ffa77d",
   "metadata": {},
   "outputs": [
    {
     "data": {
      "text/plain": [
       "<__main__.DummnyFile at 0x1079037d0>"
      ]
     },
     "execution_count": 6,
     "metadata": {},
     "output_type": "execute_result"
    }
   ],
   "source": [
    "class DummnyFile:\n",
    "    def __init__(self,file_path):\n",
    "        self.name = Path(file_path).name\n",
    "        self._file_path = file_path\n",
    "    def getbuffer(self):\n",
    "        return open(self._file_path, \"rb\").read()\n",
    "    \n",
    "dummy_pdf = DummnyFile(uploaded_file)\n",
    "dummy_pdf"
   ]
  },
  {
   "cell_type": "code",
   "execution_count": null,
   "id": "8e678bf1",
   "metadata": {},
   "outputs": [],
   "source": []
  },
  {
   "cell_type": "code",
   "execution_count": null,
   "id": "f3fe8d39",
   "metadata": {},
   "outputs": [],
   "source": []
  },
  {
   "cell_type": "code",
   "execution_count": null,
   "id": "5eaa6c07",
   "metadata": {},
   "outputs": [],
   "source": []
  },
  {
   "cell_type": "code",
   "execution_count": null,
   "id": "b2e35616",
   "metadata": {},
   "outputs": [],
   "source": []
  },
  {
   "cell_type": "code",
   "execution_count": null,
   "id": "22e2d1a7",
   "metadata": {},
   "outputs": [],
   "source": []
  },
  {
   "cell_type": "code",
   "execution_count": null,
   "id": "669aca57",
   "metadata": {},
   "outputs": [],
   "source": []
  },
  {
   "cell_type": "code",
   "execution_count": null,
   "id": "2e7d0b05",
   "metadata": {},
   "outputs": [],
   "source": []
  }
 ],
 "metadata": {
  "kernelspec": {
   "display_name": "docenv",
   "language": "python",
   "name": "python3"
  },
  "language_info": {
   "codemirror_mode": {
    "name": "ipython",
    "version": 3
   },
   "file_extension": ".py",
   "mimetype": "text/x-python",
   "name": "python",
   "nbconvert_exporter": "python",
   "pygments_lexer": "ipython3",
   "version": "3.12.0"
  }
 },
 "nbformat": 4,
 "nbformat_minor": 5
}

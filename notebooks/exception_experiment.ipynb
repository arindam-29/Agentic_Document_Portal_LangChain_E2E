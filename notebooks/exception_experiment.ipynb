{
 "cells": [
  {
   "cell_type": "markdown",
   "id": "31fdac16",
   "metadata": {},
   "source": [
    "### Custom Exception"
   ]
  },
  {
   "cell_type": "code",
   "execution_count": null,
   "id": "1192ab18",
   "metadata": {},
   "outputs": [],
   "source": [
    "import sys\n",
    "import traceback"
   ]
  },
  {
   "cell_type": "code",
   "execution_count": null,
   "id": "1d125c8d",
   "metadata": {},
   "outputs": [
    {
     "ename": "DocumentPortalException",
     "evalue": "\n            Error File: [/var/folders/rv/z_0yz9v11p94xxdj7r_1w4vc0000gn/T/ipykernel_55850/1783797414.py], Line Number: [22]\n            Error Message: division by zero\n            Error Traceback: Traceback (most recent call last):\n  File \"/var/folders/rv/z_0yz9v11p94xxdj7r_1w4vc0000gn/T/ipykernel_55850/1783797414.py\", line 22, in <module>\n    a = 1/0\n        ~^~\nZeroDivisionError: division by zero\n\n            ",
     "output_type": "error",
     "traceback": [
      "\u001b[31m---------------------------------------------------------------------------\u001b[39m",
      "\u001b[31mZeroDivisionError\u001b[39m                         Traceback (most recent call last)",
      "\u001b[36mCell\u001b[39m\u001b[36m \u001b[39m\u001b[32mIn[6]\u001b[39m\u001b[32m, line 22\u001b[39m\n\u001b[32m     21\u001b[39m \u001b[38;5;28;01mtry\u001b[39;00m:\n\u001b[32m---> \u001b[39m\u001b[32m22\u001b[39m     a = \u001b[32;43m1\u001b[39;49m\u001b[43m/\u001b[49m\u001b[32;43m0\u001b[39;49m\n\u001b[32m     23\u001b[39m     \u001b[38;5;28mprint\u001b[39m(a)\n",
      "\u001b[31mZeroDivisionError\u001b[39m: division by zero",
      "\nDuring handling of the above exception, another exception occurred:\n",
      "\u001b[31mDocumentPortalException\u001b[39m                   Traceback (most recent call last)",
      "\u001b[36mCell\u001b[39m\u001b[36m \u001b[39m\u001b[32mIn[6]\u001b[39m\u001b[32m, line 27\u001b[39m\n\u001b[32m     25\u001b[39m \u001b[38;5;28;01mexcept\u001b[39;00m \u001b[38;5;167;01mException\u001b[39;00m \u001b[38;5;28;01mas\u001b[39;00m e:\n\u001b[32m     26\u001b[39m     app_excp=DocumentPortalException(e, sys)\n\u001b[32m---> \u001b[39m\u001b[32m27\u001b[39m     \u001b[38;5;28;01mraise\u001b[39;00m app_excp\n",
      "\u001b[31mDocumentPortalException\u001b[39m: \n            Error File: [/var/folders/rv/z_0yz9v11p94xxdj7r_1w4vc0000gn/T/ipykernel_55850/1783797414.py], Line Number: [22]\n            Error Message: division by zero\n            Error Traceback: Traceback (most recent call last):\n  File \"/var/folders/rv/z_0yz9v11p94xxdj7r_1w4vc0000gn/T/ipykernel_55850/1783797414.py\", line 22, in <module>\n    a = 1/0\n        ~^~\nZeroDivisionError: division by zero\n\n            "
     ]
    }
   ],
   "source": [
    "class DocumentPortalException(Exception):\n",
    "    def __init__(self, error_message, error_details:sys):\n",
    "\n",
    "        _,_,exe_tb=error_details.exc_info()\n",
    "        self.file_name = exe_tb.tb_frame.f_code.co_filename \n",
    "        self.line_num = exe_tb.tb_lineno\n",
    "        self.error_message = str(error_message)\n",
    "        self.traceback_str = ''.join(traceback.format_exception(*error_details.exc_info()))\n",
    "        \n",
    "    def __str__(self):\n",
    "        return f\"\"\"\n",
    "            Error File: [{self.file_name}], Line Number: [{self.line_num}]\n",
    "            Error Message: {self.error_message}\n",
    "            Error Traceback: {self.traceback_str}\n",
    "            \"\"\"\n",
    "\n",
    "if __name__ == \"__main__\":\n",
    "    try:\n",
    "        a = 1/0\n",
    "        print(a)\n",
    "\n",
    "    except Exception as e:\n",
    "        app_excp=DocumentPortalException(e, sys)\n",
    "        raise app_excp"
   ]
  },
  {
   "cell_type": "code",
   "execution_count": 7,
   "id": "02958ce9",
   "metadata": {},
   "outputs": [],
   "source": [
    "from logger.cutom_logger import CustomLogger"
   ]
  },
  {
   "cell_type": "code",
   "execution_count": 10,
   "id": "da861c3e",
   "metadata": {},
   "outputs": [],
   "source": [
    "logger=CustomLogger()\n",
    "logger=logger.get_logger(\"exception_experiment.ipynb\")"
   ]
  },
  {
   "cell_type": "code",
   "execution_count": 11,
   "id": "fcb4464c",
   "metadata": {},
   "outputs": [
    {
     "ename": "DocumentPortalException",
     "evalue": "\n            Error File: [/var/folders/rv/z_0yz9v11p94xxdj7r_1w4vc0000gn/T/ipykernel_55850/143927124.py], Line Number: [3]\n            Error Message: division by zero\n            Error Traceback: Traceback (most recent call last):\n  File \"/var/folders/rv/z_0yz9v11p94xxdj7r_1w4vc0000gn/T/ipykernel_55850/143927124.py\", line 3, in <module>\n    a = 1/0\n        ~^~\nZeroDivisionError: division by zero\n\n            ",
     "output_type": "error",
     "traceback": [
      "\u001b[31m---------------------------------------------------------------------------\u001b[39m",
      "\u001b[31mZeroDivisionError\u001b[39m                         Traceback (most recent call last)",
      "\u001b[36mCell\u001b[39m\u001b[36m \u001b[39m\u001b[32mIn[11]\u001b[39m\u001b[32m, line 3\u001b[39m\n\u001b[32m      2\u001b[39m \u001b[38;5;28;01mtry\u001b[39;00m:\n\u001b[32m----> \u001b[39m\u001b[32m3\u001b[39m     a = \u001b[32;43m1\u001b[39;49m\u001b[43m/\u001b[49m\u001b[32;43m0\u001b[39;49m\n\u001b[32m      4\u001b[39m     \u001b[38;5;28mprint\u001b[39m(a)\n",
      "\u001b[31mZeroDivisionError\u001b[39m: division by zero",
      "\nDuring handling of the above exception, another exception occurred:\n",
      "\u001b[31mDocumentPortalException\u001b[39m                   Traceback (most recent call last)",
      "\u001b[36mCell\u001b[39m\u001b[36m \u001b[39m\u001b[32mIn[11]\u001b[39m\u001b[32m, line 9\u001b[39m\n\u001b[32m      7\u001b[39m app_excp=DocumentPortalException(e, sys)\n\u001b[32m      8\u001b[39m logger.error(app_excp)\n\u001b[32m----> \u001b[39m\u001b[32m9\u001b[39m \u001b[38;5;28;01mraise\u001b[39;00m app_excp\n",
      "\u001b[31mDocumentPortalException\u001b[39m: \n            Error File: [/var/folders/rv/z_0yz9v11p94xxdj7r_1w4vc0000gn/T/ipykernel_55850/143927124.py], Line Number: [3]\n            Error Message: division by zero\n            Error Traceback: Traceback (most recent call last):\n  File \"/var/folders/rv/z_0yz9v11p94xxdj7r_1w4vc0000gn/T/ipykernel_55850/143927124.py\", line 3, in <module>\n    a = 1/0\n        ~^~\nZeroDivisionError: division by zero\n\n            "
     ]
    }
   ],
   "source": [
    "if __name__ == \"__main__\":\n",
    "    try:\n",
    "        a = 1/0\n",
    "        print(a)\n",
    "\n",
    "    except Exception as e:\n",
    "        app_excp=DocumentPortalException(e, sys)\n",
    "        logger.error(app_excp)\n",
    "        raise app_excp"
   ]
  }
 ],
 "metadata": {
  "kernelspec": {
   "display_name": "docenv",
   "language": "python",
   "name": "python3"
  },
  "language_info": {
   "codemirror_mode": {
    "name": "ipython",
    "version": 3
   },
   "file_extension": ".py",
   "mimetype": "text/x-python",
   "name": "python",
   "nbconvert_exporter": "python",
   "pygments_lexer": "ipython3",
   "version": "3.12.0"
  }
 },
 "nbformat": 4,
 "nbformat_minor": 5
}

{
 "cells": [
  {
   "cell_type": "markdown",
   "id": "f4e5aa20",
   "metadata": {},
   "source": [
    "### Create Log Dir using code:"
   ]
  },
  {
   "cell_type": "code",
   "execution_count": 1,
   "id": "59ddf3e5",
   "metadata": {},
   "outputs": [],
   "source": [
    "import logging\n",
    "import os\n",
    "from datetime import datetime"
   ]
  },
  {
   "cell_type": "code",
   "execution_count": 2,
   "id": "78868790",
   "metadata": {},
   "outputs": [],
   "source": [
    "log_dir=os.path.join(os.getcwd(), \"logs\")"
   ]
  },
  {
   "cell_type": "code",
   "execution_count": 3,
   "id": "4d32c6e8",
   "metadata": {},
   "outputs": [],
   "source": [
    "os.makedirs(log_dir, exist_ok=True)"
   ]
  },
  {
   "cell_type": "code",
   "execution_count": 4,
   "id": "404fd2e4",
   "metadata": {},
   "outputs": [
    {
     "data": {
      "text/plain": [
       "'07_30_2025_21_53_33.log'"
      ]
     },
     "execution_count": 4,
     "metadata": {},
     "output_type": "execute_result"
    }
   ],
   "source": [
    "LOG_FILE=f\"{datetime.now().strftime('%m_%d_%Y_%H_%M_%S')}.log\"\n",
    "LOG_FILE"
   ]
  },
  {
   "cell_type": "code",
   "execution_count": 5,
   "id": "178f3231",
   "metadata": {},
   "outputs": [
    {
     "data": {
      "text/plain": [
       "'/Users/arindam/Machine Learning/GenAI_2025/AgenticAI/4_Agentic_Document_Portal_LangGraph_E2E/notebooks/logs/07_30_2025_21_53_33.log'"
      ]
     },
     "execution_count": 5,
     "metadata": {},
     "output_type": "execute_result"
    }
   ],
   "source": [
    "LOG_FILE_PATH=os.path.join(log_dir, LOG_FILE)\n",
    "LOG_FILE_PATH"
   ]
  },
  {
   "cell_type": "markdown",
   "id": "0c7b39e5",
   "metadata": {},
   "source": [
    "### Create Basic Loging config"
   ]
  },
  {
   "cell_type": "code",
   "execution_count": 6,
   "id": "e4abd9f5",
   "metadata": {},
   "outputs": [],
   "source": [
    "logging.basicConfig(\n",
    "    filename=LOG_FILE_PATH,\n",
    "    format=\"[ %(asctime)s ] %(levelname)s %(name)s (line:%(lineno)d) - %(message)s\",\n",
    "    level=logging.INFO,\n",
    ")"
   ]
  },
  {
   "cell_type": "code",
   "execution_count": 7,
   "id": "45952eaa",
   "metadata": {},
   "outputs": [],
   "source": [
    "logging.getLogger(__name__).info(\"Logging setup Complete\")"
   ]
  },
  {
   "cell_type": "code",
   "execution_count": 8,
   "id": "93ae36b0",
   "metadata": {},
   "outputs": [],
   "source": [
    "logger=logging.getLogger(\"Document Portal\")\n",
    "logger.info(\"This is a test info message\")"
   ]
  },
  {
   "cell_type": "code",
   "execution_count": 9,
   "id": "3b2764e2",
   "metadata": {},
   "outputs": [],
   "source": [
    "#[ 2025-07-29 22:11:43,772 ] INFO Document Portal (line:2) - This is a test info message"
   ]
  },
  {
   "cell_type": "markdown",
   "id": "33c76929",
   "metadata": {},
   "source": []
  },
  {
   "cell_type": "markdown",
   "id": "a65615d9",
   "metadata": {},
   "source": [
    "### Structure Log using structlog\n",
    "\n",
    "Used to create mmessage in JSON format which can be easily use to log in AWS or ELK, ESS Log or Cloud Watch etc"
   ]
  },
  {
   "cell_type": "code",
   "execution_count": 10,
   "id": "8686a161",
   "metadata": {},
   "outputs": [],
   "source": [
    "import structlog\n",
    "logger=structlog.get_logger()"
   ]
  },
  {
   "cell_type": "code",
   "execution_count": 11,
   "id": "e1309646",
   "metadata": {},
   "outputs": [
    {
     "name": "stdout",
     "output_type": "stream",
     "text": [
      "\u001b[2m2025-07-30 21:53:33\u001b[0m [\u001b[32m\u001b[1minfo     \u001b[0m] \u001b[1mTest Message: User file uploaded\u001b[0m \u001b[36mfilename\u001b[0m=\u001b[35mtest.pdf\u001b[0m \u001b[36muser_id\u001b[0m=\u001b[35m123\u001b[0m\n"
     ]
    }
   ],
   "source": [
    "logger.info(\"Test Message: User file uploaded\", user_id=123, filename='test.pdf')"
   ]
  },
  {
   "cell_type": "code",
   "execution_count": 12,
   "id": "65b27bbb",
   "metadata": {},
   "outputs": [
    {
     "name": "stdout",
     "output_type": "stream",
     "text": [
      "\u001b[2m2025-07-30 21:53:33\u001b[0m [\u001b[31m\u001b[1merror    \u001b[0m] \u001b[1mTest Message: User file uploaded\u001b[0m \u001b[36mfilename\u001b[0m=\u001b[35mtest.pdf\u001b[0m \u001b[36muser_id\u001b[0m=\u001b[35m123\u001b[0m\n"
     ]
    }
   ],
   "source": [
    "logger.error(\"Test Message: User file uploaded\", user_id=123, filename='test.pdf')"
   ]
  },
  {
   "cell_type": "code",
   "execution_count": null,
   "id": "895a23fd",
   "metadata": {},
   "outputs": [],
   "source": []
  },
  {
   "cell_type": "code",
   "execution_count": null,
   "id": "1dd3e174",
   "metadata": {},
   "outputs": [],
   "source": []
  },
  {
   "cell_type": "code",
   "execution_count": null,
   "id": "030c83a1",
   "metadata": {},
   "outputs": [],
   "source": []
  },
  {
   "cell_type": "code",
   "execution_count": null,
   "id": "8fd3229b",
   "metadata": {},
   "outputs": [],
   "source": []
  },
  {
   "cell_type": "code",
   "execution_count": null,
   "id": "2390e3bc",
   "metadata": {},
   "outputs": [],
   "source": []
  }
 ],
 "metadata": {
  "kernelspec": {
   "display_name": "docenv",
   "language": "python",
   "name": "python3"
  },
  "language_info": {
   "codemirror_mode": {
    "name": "ipython",
    "version": 3
   },
   "file_extension": ".py",
   "mimetype": "text/x-python",
   "name": "python",
   "nbconvert_exporter": "python",
   "pygments_lexer": "ipython3",
   "version": "3.12.0"
  }
 },
 "nbformat": 4,
 "nbformat_minor": 5
}

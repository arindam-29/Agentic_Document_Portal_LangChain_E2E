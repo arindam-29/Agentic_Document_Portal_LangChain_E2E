{
 "cells": [
  {
   "cell_type": "markdown",
   "id": "792a047a",
   "metadata": {},
   "source": [
    "### 1. Get the models"
   ]
  },
  {
   "cell_type": "code",
   "execution_count": 30,
   "id": "56bb8ec7",
   "metadata": {},
   "outputs": [
    {
     "data": {
      "text/plain": [
       "True"
      ]
     },
     "execution_count": 30,
     "metadata": {},
     "output_type": "execute_result"
    }
   ],
   "source": [
    "import os\n",
    "from dotenv import load_dotenv\n",
    "load_dotenv()"
   ]
  },
  {
   "cell_type": "code",
   "execution_count": 31,
   "id": "a50ed88b",
   "metadata": {},
   "outputs": [],
   "source": [
    "from langchain_openai import ChatOpenAI\n",
    "LLM_openai = ChatOpenAI()"
   ]
  },
  {
   "cell_type": "code",
   "execution_count": 32,
   "id": "8a9113d0",
   "metadata": {},
   "outputs": [
    {
     "data": {
      "text/plain": [
       "AIMessage(content='<think>\\n\\n</think>\\n\\nThe capital of France is Paris.', additional_kwargs={}, response_metadata={'token_usage': {'completion_tokens': 12, 'prompt_tokens': 10, 'total_tokens': 22, 'completion_time': 0.053891541, 'prompt_time': 0.000187917, 'queue_time': 0.00956878, 'total_time': 0.054079458}, 'model_name': 'deepseek-r1-distill-llama-70b', 'system_fingerprint': 'fp_e98d30d035', 'service_tier': 'on_demand', 'finish_reason': 'stop', 'logprobs': None}, id='run--dee93ecd-2b8d-49f0-8e07-f536ffa78661-0', usage_metadata={'input_tokens': 10, 'output_tokens': 12, 'total_tokens': 22})"
      ]
     },
     "execution_count": 32,
     "metadata": {},
     "output_type": "execute_result"
    }
   ],
   "source": [
    "from langchain_groq import ChatGroq\n",
    "LLM = ChatGroq(model=\"deepseek-r1-distill-llama-70b\")\n",
    "LLM.invoke(\"What is the capital of France?\")"
   ]
  },
  {
   "cell_type": "code",
   "execution_count": 33,
   "id": "e8c4c81d",
   "metadata": {},
   "outputs": [
    {
     "data": {
      "text/plain": [
       "768"
      ]
     },
     "execution_count": 33,
     "metadata": {},
     "output_type": "execute_result"
    }
   ],
   "source": [
    "from langchain_google_genai import GoogleGenerativeAIEmbeddings\n",
    "EMBEDDING=GoogleGenerativeAIEmbeddings(model=\"models/embedding-001\")\n",
    "len(EMBEDDING.embed_query(\"What is the capital of France?\"))"
   ]
  },
  {
   "cell_type": "markdown",
   "id": "0009e909",
   "metadata": {},
   "source": [
    "### 2. Data Ingestion"
   ]
  },
  {
   "cell_type": "code",
   "execution_count": 34,
   "id": "a9d7d3c7",
   "metadata": {},
   "outputs": [],
   "source": [
    "from langchain.document_loaders import PyPDFLoader\n",
    "from langchain.text_splitter import RecursiveCharacterTextSplitter"
   ]
  },
  {
   "cell_type": "code",
   "execution_count": 50,
   "id": "2815ebcc",
   "metadata": {},
   "outputs": [
    {
     "data": {
      "text/plain": [
       "34"
      ]
     },
     "execution_count": 50,
     "metadata": {},
     "output_type": "execute_result"
    }
   ],
   "source": [
    "file_path=os.path.join(os.getcwd(), \"data\", \"cookbook.pdf\")\n",
    "loader= PyPDFLoader(file_path)\n",
    "documents = loader.load()\n",
    "len(documents)"
   ]
  },
  {
   "cell_type": "code",
   "execution_count": null,
   "id": "2db0f4fa",
   "metadata": {},
   "outputs": [
    {
     "data": {
      "text/plain": [
       "179"
      ]
     },
     "execution_count": 36,
     "metadata": {},
     "output_type": "execute_result"
    }
   ],
   "source": [
    "# Small documents can be directly used with the vector store whithout splitting:\n",
    "\n",
    "# text_splitter = RecursiveCharacterTextSplitter(chunk_size=500, chunk_overlap=150, length_function=len)\n",
    "# split_docs = text_splitter.split_documents(documents)\n",
    "# len(split_docs)"
   ]
  },
  {
   "cell_type": "code",
   "execution_count": null,
   "id": "a444c384",
   "metadata": {},
   "outputs": [
    {
     "data": {
      "text/plain": [
       "{'producer': 'Adobe PDF Library 15.0',\n",
       " 'creator': 'Adobe InDesign 14.0 (Macintosh)',\n",
       " 'creationdate': '2020-01-29T11:11:43-08:00',\n",
       " 'moddate': '2020-01-29T11:12:21-08:00',\n",
       " 'trapped': '/False',\n",
       " 'source': '/Users/arindam/Machine Learning/GenAI_2025/AgenticAI/4_Agentic_Document_Portal_LangGraph_E2E/notebooks/data/cookbook.pdf',\n",
       " 'total_pages': 34,\n",
       " 'page': 1,\n",
       " 'page_label': '2'}"
      ]
     },
     "execution_count": 37,
     "metadata": {},
     "output_type": "execute_result"
    }
   ],
   "source": [
    "# split_docs[2].metadata"
   ]
  },
  {
   "cell_type": "markdown",
   "id": "e3d22790",
   "metadata": {},
   "source": [
    "### 3. Store the docs in vector db\n",
    "\n",
    "1. FIASS is in-memory vector store (eg. chroma)\n",
    "2. on disk storage(faiss you can persist over the disk,chroma)\n",
    "3. cloud storage(cloud variant of faiss is not available)(pinecone,weaviate,milvus,mongodbvectorsearch,astradb)"
   ]
  },
  {
   "cell_type": "code",
   "execution_count": 51,
   "id": "eb3fb6c0",
   "metadata": {},
   "outputs": [],
   "source": [
    "from langchain.vectorstores import FAISS\n",
    "vectorstore = FAISS.from_documents(\n",
    "    documents,\n",
    "    EMBEDDING,)"
   ]
  },
  {
   "cell_type": "code",
   "execution_count": 39,
   "id": "c681db5c",
   "metadata": {},
   "outputs": [
    {
     "data": {
      "text/plain": [
       "[Document(id='5fbc28fc-725e-46fc-b4a7-880676a3fb21', metadata={'producer': 'Adobe PDF Library 15.0', 'creator': 'Adobe InDesign 14.0 (Macintosh)', 'creationdate': '2020-01-29T11:11:43-08:00', 'moddate': '2020-01-29T11:12:21-08:00', 'trapped': '/False', 'source': '/Users/arindam/Machine Learning/GenAI_2025/AgenticAI/4_Agentic_Document_Portal_LangGraph_E2E/notebooks/data/cookbook.pdf', 'total_pages': 34, 'page': 0, 'page_label': '1'}, page_content='FOOD HERO\\n FOOD HERO\\nMy Recipes\\nBe a \\nFood Hero \\nCook together. Eat together. Talk together.'),\n",
       " Document(id='80c6ed77-085a-4d63-abb2-913db5682685', metadata={'producer': 'Adobe PDF Library 15.0', 'creator': 'Adobe InDesign 14.0 (Macintosh)', 'creationdate': '2020-01-29T11:11:43-08:00', 'moddate': '2020-01-29T11:12:21-08:00', 'trapped': '/False', 'source': '/Users/arindam/Machine Learning/GenAI_2025/AgenticAI/4_Agentic_Document_Portal_LangGraph_E2E/notebooks/data/cookbook.pdf', 'total_pages': 34, 'page': 28, 'page_label': '29'}, page_content='Ingredients\\n2 cups grated cauliflower (about half a medium \\nhead)\\n1 egg\\n3 Tablespoons flour\\n¼ cup cheddar cheese, grated\\n¼ teaspoon salt\\nDirections\\n1. Preheat oven to 400 degrees F. Grease a \\nbaking sheet.\\n2. Grate cauliflower on the large holes of a \\ngrater. \\n3. In a medium bowl, combine cauliflower, egg, \\nflour, cheese and salt; mix well. \\n4. Press mixture together to make about 15 \\nsmall balls or logs. Place on the baking sheet \\nwith space between each ball or log.'),\n",
       " Document(id='f6a5dade-beae-4166-9cf1-d7ed48ca381c', metadata={'producer': 'Adobe PDF Library 15.0', 'creator': 'Adobe InDesign 14.0 (Macintosh)', 'creationdate': '2020-01-29T11:11:43-08:00', 'moddate': '2020-01-29T11:12:21-08:00', 'trapped': '/False', 'source': '/Users/arindam/Machine Learning/GenAI_2025/AgenticAI/4_Agentic_Document_Portal_LangGraph_E2E/notebooks/data/cookbook.pdf', 'total_pages': 34, 'page': 30, 'page_label': '31'}, page_content='Storing Fresh Vegetables\\nCarrots: Store in a plastic bag in the refrigerator for up to \\n2 weeks, poking a few small holes in the bag to let air in. \\nKeep carrot sticks for snacks in your refrigerator for up to 1 \\nweek; to prevent the sticks from drying out, store in water. \\nCarrots can be frozen after blanching.\\nOnions: Store in a cool, dark, dry place in an open bowl \\nor bag for several weeks. Store peeled or cut onions in \\nsealed containers in the refrigerator and use within 2 weeks.'),\n",
       " Document(id='9071fc13-3ef6-488f-b1ee-4ea8d09e14b0', metadata={'producer': 'Adobe PDF Library 15.0', 'creator': 'Adobe InDesign 14.0 (Macintosh)', 'creationdate': '2020-01-29T11:11:43-08:00', 'moddate': '2020-01-29T11:12:21-08:00', 'trapped': '/False', 'source': '/Users/arindam/Machine Learning/GenAI_2025/AgenticAI/4_Agentic_Document_Portal_LangGraph_E2E/notebooks/data/cookbook.pdf', 'total_pages': 34, 'page': 30, 'page_label': '31'}, page_content='Broccoli and Cauliflower: Store in the refrigerator in a \\ngrocery produce bag or poke a few small holes in a bag to \\nlet air in. For best quality, use within 1 week. Broccoli and \\ncauliflower can be frozen after blanching.*\\n31')]"
      ]
     },
     "execution_count": 39,
     "metadata": {},
     "output_type": "execute_result"
    }
   ],
   "source": [
    "vectorstore.similarity_search(\"How to make Stuffed Cauliflower Parantha?\")"
   ]
  },
  {
   "cell_type": "code",
   "execution_count": 52,
   "id": "2c5bfa62",
   "metadata": {},
   "outputs": [
    {
     "data": {
      "text/plain": [
       "[Document(id='7dbd49ec-cfcf-48e8-8e00-aee8d5f959a5', metadata={'producer': 'Adobe PDF Library 15.0', 'creator': 'Adobe InDesign 14.0 (Macintosh)', 'creationdate': '2020-01-29T11:11:43-08:00', 'moddate': '2020-01-29T11:12:21-08:00', 'trapped': '/False', 'source': '/Users/arindam/Machine Learning/GenAI_2025/AgenticAI/4_Agentic_Document_Portal_LangGraph_E2E/notebooks/data/cookbook.pdf', 'total_pages': 34, 'page': 0, 'page_label': '1'}, page_content='FOOD HERO\\n FOOD HERO\\nMy Recipes\\nBe a \\nFood Hero \\nCook together. Eat together. Talk together.'),\n",
       " Document(id='7d73ff55-5c89-4aa3-b552-496a5e833499', metadata={'producer': 'Adobe PDF Library 15.0', 'creator': 'Adobe InDesign 14.0 (Macintosh)', 'creationdate': '2020-01-29T11:11:43-08:00', 'moddate': '2020-01-29T11:12:21-08:00', 'trapped': '/False', 'source': '/Users/arindam/Machine Learning/GenAI_2025/AgenticAI/4_Agentic_Document_Portal_LangGraph_E2E/notebooks/data/cookbook.pdf', 'total_pages': 34, 'page': 30, 'page_label': '31'}, page_content='Storing Fresh Vegetables\\nCarrots: Store in a plastic bag in the refrigerator for up to \\n2 weeks, poking a few small holes in the bag to let air in. \\nKeep carrot sticks for snacks in your refrigerator for up to 1 \\nweek; to prevent the sticks from drying out, store in water. \\nCarrots can be frozen after blanching.\\nOnions: Store in a cool, dark, dry place in an open bowl \\nor bag for several weeks. Store peeled or cut onions in \\nsealed containers in the refrigerator and use within 2 weeks. \\nRefrigerate green onions (scallions) immediately. Freeze \\nextra onions (raw or cooked) to avoid waste. Chop and sauté \\nif desired, or slice raw onions and place small amounts \\nin containers in your freezer and use within 8 months in \\ncooked dishes.\\nPotatoes: Store in a dark, cool, well-ventilated cupboard. \\nUse a paper bag or a plastic bag with holes to let air in and \\nkeep the potatoes from wilting. New potatoes (small size) \\nstay fresh for 2 to 3 days and mature potatoes (larger size) \\nfor 2 or more weeks.\\nTomatoes: Keep ripe whole tomatoes at room \\ntemperature in a single layer in an open container. Avoid \\ndirect sunlight. Try to use within 5 days. Short refrigerator \\nstorage (3 days) can help delay softening but may also \\nreduce flavor. \\nSalad Greens: Store in the refrigerator covered with a \\ndamp paper towel in an open container or in a plastic bag \\nwith holes to let air in. Use greens within 10 days.\\nBroccoli and Cauliflower: Store in the refrigerator in a \\ngrocery produce bag or poke a few small holes in a bag to \\nlet air in. For best quality, use within 1 week. Broccoli and \\ncauliflower can be frozen after blanching.*\\n31'),\n",
       " Document(id='3b6120a2-8499-483b-bd2b-b67083b41a55', metadata={'producer': 'Adobe PDF Library 15.0', 'creator': 'Adobe InDesign 14.0 (Macintosh)', 'creationdate': '2020-01-29T11:11:43-08:00', 'moddate': '2020-01-29T11:12:21-08:00', 'trapped': '/False', 'source': '/Users/arindam/Machine Learning/GenAI_2025/AgenticAI/4_Agentic_Document_Portal_LangGraph_E2E/notebooks/data/cookbook.pdf', 'total_pages': 34, 'page': 29, 'page_label': '30'}, page_content='1.\\nWash and Cut \\nVegetables\\n2.\\nPreheat  \\nOven\\n3.\\nMix Oil and Seasonings \\nwith Vegetables—place  \\nflat on baking sheet\\n4.\\nRoast in Oven— \\nstir half way \\nthrough cook time*\\nAsparagus 1 pound, fresh spears \\nwith ends snapped or  \\ncut off (about 24  \\nmedium spears)\\n400 degrees F 1 tsp oil\\n⅛ tsp each salt and pepper\\n12 to 15 minutes \\nBaking \\nPotatoes \\nor Sweet \\nPotatoes \\n3 large, cut into  \\n8 wedges\\n450 degrees F 3 Tbsp oil\\n1½ tsp paprika\\n1½ tsp onion powder\\n½ tsp garlic powder\\n½ tsp chili powder\\n30 minutes\\nBrussels \\nSprouts\\n1¼ pounds (about 18 \\nlarge) with ends  \\ntrimmed off and \\nquartered\\n400 degrees F 1 Tbsp oil\\n⅛ tsp each salt and pepper\\n1 tsp lemon juice\\n20 to 30 minutes\\nCarrots 1½ pounds (about 7 \\nmedium) peeled and  \\ncut into sticks\\n400 degrees F 1 Tbsp oil\\n⅛ tsp salt \\n20 to 30 minutes\\nCauliflower \\nor Broccoli\\n1 medium-sized head,  \\ncut into florets\\n400 degrees F 1 tsp oil\\n½ tsp each salt and pepper\\n¼ cup grated cheese, if desired\\n24 to 30 minutes\\n*Time varies based on size of vegetables and oven temperature.\\nRoasted Vegetables\\nStovetop Rice\\n1. Add dry rice and water or broth to a pot. \\n• 1 cup white rice to 2 cups liquid\\n• 1 cup brown rice to 2¼ cups liquid\\n2. Bring to a boil. Stir once or twice.\\n3. Cover with a tight-fitting lid. Reduce the heat to very low.\\n4. Cook white rice 18 to 20 minutes, and brown rice 35 to 45 minutes.\\n5. Check rice. If it is not tender or there is still some liquid in the pan,  \\ncover and cook 2 to 4 more minutes.\\n6. When done, take the pan off the heat. Remove the lid and fluff the rice with a fork.\\n30'),\n",
       " Document(id='0cb93032-1e39-45bf-b031-a42e233e8ade', metadata={'producer': 'Adobe PDF Library 15.0', 'creator': 'Adobe InDesign 14.0 (Macintosh)', 'creationdate': '2020-01-29T11:11:43-08:00', 'moddate': '2020-01-29T11:12:21-08:00', 'trapped': '/False', 'source': '/Users/arindam/Machine Learning/GenAI_2025/AgenticAI/4_Agentic_Document_Portal_LangGraph_E2E/notebooks/data/cookbook.pdf', 'total_pages': 34, 'page': 28, 'page_label': '29'}, page_content='Ingredients\\n2 cups grated cauliflower (about half a medium \\nhead)\\n1 egg\\n3 Tablespoons flour\\n¼ cup cheddar cheese, grated\\n¼ teaspoon salt\\nDirections\\n1. Preheat oven to 400 degrees F. Grease a \\nbaking sheet.\\n2. Grate cauliflower on the large holes of a \\ngrater. \\n3. In a medium bowl, combine cauliflower, egg, \\nflour, cheese and salt; mix well. \\n4. Press mixture together to make about 15 \\nsmall balls or logs. Place on the baking sheet \\nwith space between each ball or log.\\n5. Bake for 20 minutes or until cooked through. \\nFor extra crispy tots, broil for an extra 2 \\nminutes. Watch closely to avoid burning.\\nPrep time: 10 minutes Cooking time: 20 minutes Makes: 2 cups\\nBaked Cauliflower Tots  \\nSkillet Braised Chicken Baked Tofu Baked Cauliflower Tots\\nCalories \\nServing size\\n3 servings per container\\nTotal Fat  2.5g  \\nSaturated Fat  1g\\nTrans Fat  0g \\nCholesterol  40mg \\nSodium  200mg  \\nTotal Carbohydrate  9g  \\nDietary Fiber  2g \\nTotal Sugars  2g \\nIncludes 0g Added Sugars \\nProtein  5g  \\n3%\\n5%\\n13%\\n9%\\n3%\\n7%\\n0%\\nVitamin D 0mcg  0% Calcium 67mg 6%\\nIron 1mg  6%\\nVitamin A 30mcg 3%\\nPotassium 296mg  6%\\nVitamin C 43mg  48%\\n* \\n5 tots (110g)\\nAmount per serving \\n70\\n% Daily Value* \\nNutrition Facts\\nThe % Daily Value (DV) tells you how much a nutrient in\\na serving of food contributes to a daily diet. 2,000 calories\\na day is used for general nutrition advice.\\nCalories \\nServing size\\n2 servings per container\\nTotal Fat  9g  \\nSaturated Fat  1g\\nTrans Fat  0g \\nCholesterol  35mg \\nSodium  30mg  \\nTotal Carbohydrate  0g  \\nDietary Fiber  0g \\nTotal Sugars  0g \\nIncludes 0g Added Sugars \\nProtein  13g  \\n12%\\n5%\\n12%\\n1%\\n0%\\n0%\\n0%\\nVitamin D 0mcg  0% Calcium  6mg 0%\\nIron 0mg  0%\\nVitamin A 3mcg 0%\\nPotassium 110mg  2%\\nVitamin C 0mg  0%\\n* \\n1/2 breast (50g)\\nAmount per serving \\n130\\n% Daily Value* \\nNutrition Facts\\nThe % Daily Value (DV) tells you how much a nutrient in\\na serving of food contributes to a daily diet. 2,000 calories\\na day is used for general nutrition advice.\\nCalories \\nServing size\\n6 servings per container\\nTotal Fat  6g  \\nSaturated Fat  0g\\nTrans Fat  0g \\nCholesterol  0mg  \\nSodium  190mg  \\nTotal Carbohydrate  5g  \\nDietary Fiber  0g \\nTotal Sugars  3g \\nIncludes 3g Added Sugars \\nProtein  7g  \\n8%\\n0%\\n0%\\n8%\\n2%\\n0%\\n6%\\nVitamin D 0mcg 0% Calcium 145mg 10%\\nIron 1mg  6%\\nVitamin A 0mcg 0%\\nPotassium 21mg  0%\\nVitamin C 0mg    0%\\nThe % Daily Value (DV) tells you how much a nutrient in\\na serving of food contributes to a daily diet. 2,000 calories\\na day is used for general nutrition advice.\\n* \\n3 ounces (92g)\\nAmount per serving \\n100\\n% Daily Value* \\nNutrition Facts\\n29')]"
      ]
     },
     "execution_count": 52,
     "metadata": {},
     "output_type": "execute_result"
    }
   ],
   "source": [
    "retriever= vectorstore.as_retriever()\n",
    "retriever.invoke(\"How to make Stuffed Cauliflower Parantha?\")"
   ]
  },
  {
   "cell_type": "code",
   "execution_count": 53,
   "id": "66f5917a",
   "metadata": {},
   "outputs": [],
   "source": [
    "prompt = \"\"\"\n",
    "    You are a helpful assistant that answers questions based on the provided context.\n",
    "    if the context does not contain enough information to answer the question, respond with \"I don't know\".\n",
    "    Context: {context}\n",
    "    Question: {question}\n",
    "    Answer:\n",
    "\"\"\""
   ]
  },
  {
   "cell_type": "code",
   "execution_count": 54,
   "id": "92a28c51",
   "metadata": {},
   "outputs": [],
   "source": [
    "from langchain.prompts import PromptTemplate\n",
    "prompt_template = PromptTemplate(\n",
    "    input_variables=[\"context\", \"question\"],\n",
    "    template=prompt\n",
    ")"
   ]
  },
  {
   "cell_type": "code",
   "execution_count": 44,
   "id": "147ce925",
   "metadata": {},
   "outputs": [
    {
     "data": {
      "text/plain": [
       "PromptTemplate(input_variables=['context', 'question'], input_types={}, partial_variables={}, template='\\n    You are a helpful assistant that answers questions based on the provided context.\\n    if the context does not contain enough information to answer the question, respond with \"I don\\'t know\".\\n    Context: {context}\\n    Question: {question}\\n    Answer:\\n')"
      ]
     },
     "execution_count": 44,
     "metadata": {},
     "output_type": "execute_result"
    }
   ],
   "source": [
    "prompt_template"
   ]
  },
  {
   "cell_type": "code",
   "execution_count": 55,
   "id": "8195c175",
   "metadata": {},
   "outputs": [],
   "source": [
    "from langchain_core.output_parsers import StrOutputParser\n",
    "parser = StrOutputParser()"
   ]
  },
  {
   "cell_type": "code",
   "execution_count": 56,
   "id": "1d438ab7",
   "metadata": {},
   "outputs": [],
   "source": [
    "def format_docs(docs):\n",
    "    return \"\\n\\n\".join([doc.page_content for doc in docs])"
   ]
  },
  {
   "cell_type": "code",
   "execution_count": 57,
   "id": "259463f3",
   "metadata": {},
   "outputs": [],
   "source": [
    "from langchain_core.runnables import RunnablePassthrough\n",
    "rag_chain = (\n",
    "    {\"context\": retriever | format_docs, \"question\": RunnablePassthrough()}\n",
    "    | prompt_template\n",
    "    | LLM_openai\n",
    "    | parser\n",
    ")"
   ]
  },
  {
   "cell_type": "code",
   "execution_count": 58,
   "id": "2c4257b2",
   "metadata": {},
   "outputs": [
    {
     "data": {
      "text/plain": [
       "'The Nutrition Facts for Lasagna are as follows:\\n- Serving size: 1 cup (196g)\\n- Amount per serving: 260 calories\\n- % Daily Value: \\n  - Total Fat: 14%\\n  - Saturated Fat: 23%\\n  - Cholesterol: 17%\\n  - Sodium: 27%\\n  - Total Carbohydrate: 6%\\n  - Dietary Fiber: 4%\\n  - Sugars: 4%\\n  - Protein: 4%\\n- Other nutrients: \\n  - Vitamin D: 0mcg, 0%\\n  - Calcium: 159mg, 10%\\n  - Iron: 3mg, 15%\\n  - Vitamin A: 45mcg, 5%\\n  - Potassium: 497mg, 10%\\n  - Vitamin C: 6mg, 7%'"
      ]
     },
     "execution_count": 58,
     "metadata": {},
     "output_type": "execute_result"
    }
   ],
   "source": [
    "rag_chain.invoke(\"What is the Nutrition Facts of Lasagna?\")"
   ]
  },
  {
   "cell_type": "code",
   "execution_count": null,
   "id": "981fc238",
   "metadata": {},
   "outputs": [],
   "source": []
  },
  {
   "cell_type": "code",
   "execution_count": null,
   "id": "60ed077f",
   "metadata": {},
   "outputs": [],
   "source": []
  },
  {
   "cell_type": "code",
   "execution_count": null,
   "id": "72e6b2a8",
   "metadata": {},
   "outputs": [],
   "source": []
  }
 ],
 "metadata": {
  "kernelspec": {
   "display_name": "venv",
   "language": "python",
   "name": "python3"
  },
  "language_info": {
   "codemirror_mode": {
    "name": "ipython",
    "version": 3
   },
   "file_extension": ".py",
   "mimetype": "text/x-python",
   "name": "python",
   "nbconvert_exporter": "python",
   "pygments_lexer": "ipython3",
   "version": "3.10.0"
  }
 },
 "nbformat": 4,
 "nbformat_minor": 5
}

{
 "cells": [
  {
   "cell_type": "markdown",
   "id": "792a047a",
   "metadata": {},
   "source": [
    "### 1. Get the models"
   ]
  },
  {
   "cell_type": "code",
   "execution_count": 1,
   "id": "56bb8ec7",
   "metadata": {},
   "outputs": [
    {
     "data": {
      "text/plain": [
       "True"
      ]
     },
     "execution_count": 1,
     "metadata": {},
     "output_type": "execute_result"
    }
   ],
   "source": [
    "import os\n",
    "from dotenv import load_dotenv\n",
    "load_dotenv()"
   ]
  },
  {
   "cell_type": "code",
   "execution_count": 2,
   "id": "8a9113d0",
   "metadata": {},
   "outputs": [
    {
     "data": {
      "text/plain": [
       "AIMessage(content='<think>\\n\\n</think>\\n\\nThe capital of France is Paris.', additional_kwargs={}, response_metadata={'token_usage': {'completion_tokens': 12, 'prompt_tokens': 10, 'total_tokens': 22, 'completion_time': 0.055751182, 'prompt_time': 0.000209927, 'queue_time': 0.202566981, 'total_time': 0.055961109}, 'model_name': 'deepseek-r1-distill-llama-70b', 'system_fingerprint': 'fp_1bbe7845ec', 'service_tier': 'on_demand', 'finish_reason': 'stop', 'logprobs': None}, id='run--d281932e-be79-4421-a2b2-d44568d46926-0', usage_metadata={'input_tokens': 10, 'output_tokens': 12, 'total_tokens': 22})"
      ]
     },
     "execution_count": 2,
     "metadata": {},
     "output_type": "execute_result"
    }
   ],
   "source": [
    "from langchain_groq import ChatGroq\n",
    "LLM = ChatGroq(model=\"deepseek-r1-distill-llama-70b\")\n",
    "LLM.invoke(\"What is the capital of France?\")"
   ]
  },
  {
   "cell_type": "code",
   "execution_count": 3,
   "id": "e8c4c81d",
   "metadata": {},
   "outputs": [
    {
     "data": {
      "text/plain": [
       "768"
      ]
     },
     "execution_count": 3,
     "metadata": {},
     "output_type": "execute_result"
    }
   ],
   "source": [
    "from langchain_google_genai import GoogleGenerativeAIEmbeddings\n",
    "EMBEDDING=GoogleGenerativeAIEmbeddings(model=\"models/embedding-001\")\n",
    "len(EMBEDDING.embed_query(\"What is the capital of France?\"))"
   ]
  },
  {
   "cell_type": "markdown",
   "id": "0009e909",
   "metadata": {},
   "source": [
    "### 2. Data Ingestion"
   ]
  },
  {
   "cell_type": "code",
   "execution_count": 4,
   "id": "a9d7d3c7",
   "metadata": {},
   "outputs": [],
   "source": [
    "from langchain.document_loaders import PyPDFLoader\n",
    "from langchain.text_splitter import RecursiveCharacterTextSplitter"
   ]
  },
  {
   "cell_type": "code",
   "execution_count": 5,
   "id": "2815ebcc",
   "metadata": {},
   "outputs": [
    {
     "data": {
      "text/plain": [
       "178"
      ]
     },
     "execution_count": 5,
     "metadata": {},
     "output_type": "execute_result"
    }
   ],
   "source": [
    "file_path=os.path.join(os.getcwd(), \"data\", \"recipes.pdf\")\n",
    "loader= PyPDFLoader(file_path)\n",
    "documents = loader.load()\n",
    "len(documents)"
   ]
  },
  {
   "cell_type": "code",
   "execution_count": 6,
   "id": "2db0f4fa",
   "metadata": {},
   "outputs": [
    {
     "data": {
      "text/plain": [
       "360"
      ]
     },
     "execution_count": 6,
     "metadata": {},
     "output_type": "execute_result"
    }
   ],
   "source": [
    "text_splitter = RecursiveCharacterTextSplitter(chunk_size=500, chunk_overlap=150, length_function=len)\n",
    "split_docs = text_splitter.split_documents(documents)\n",
    "len(split_docs)"
   ]
  },
  {
   "cell_type": "code",
   "execution_count": 7,
   "id": "a444c384",
   "metadata": {},
   "outputs": [
    {
     "data": {
      "text/plain": [
       "{'producer': 'Adobe PDF Library 15.0',\n",
       " 'creator': 'Adobe InDesign 14.0 (Windows)',\n",
       " 'creationdate': '2020-02-13T10:52:54+05:30',\n",
       " 'moddate': '2020-02-13T10:53:27+05:30',\n",
       " 'trapped': '/False',\n",
       " 'source': '/Users/arindam/Machine Learning/GenAI_2025/AgenticAI/4_Agentic_Document_Portal_LangGraph_E2E/notebooks/data/recipes.pdf',\n",
       " 'total_pages': 178,\n",
       " 'page': 6,\n",
       " 'page_label': '7'}"
      ]
     },
     "execution_count": 7,
     "metadata": {},
     "output_type": "execute_result"
    }
   ],
   "source": [
    "split_docs[2].metadata"
   ]
  },
  {
   "cell_type": "markdown",
   "id": "e3d22790",
   "metadata": {},
   "source": [
    "### 3. Store the docs in vector db\n",
    "\n",
    "1. FIASS is in-memory vector store (eg. chroma)\n",
    "2. on disk storage(faiss you can persist over the disk,chroma)\n",
    "3. cloud storage(cloud variant of faiss is not available)(pinecone,weaviate,milvus,mongodbvectorsearch,astradb)"
   ]
  },
  {
   "cell_type": "code",
   "execution_count": 8,
   "id": "eb3fb6c0",
   "metadata": {},
   "outputs": [],
   "source": [
    "from langchain.vectorstores import FAISS\n",
    "vectorstore = FAISS.from_documents(\n",
    "    split_docs,\n",
    "    EMBEDDING,)"
   ]
  },
  {
   "cell_type": "code",
   "execution_count": 9,
   "id": "c681db5c",
   "metadata": {},
   "outputs": [
    {
     "data": {
      "text/plain": [
       "[Document(id='3983a019-fc81-443c-be5a-cedf1dff1d73', metadata={'producer': 'Adobe PDF Library 15.0', 'creator': 'Adobe InDesign 14.0 (Windows)', 'creationdate': '2020-02-13T10:52:54+05:30', 'moddate': '2020-02-13T10:53:27+05:30', 'trapped': '/False', 'source': '/Users/arindam/Machine Learning/GenAI_2025/AgenticAI/4_Agentic_Document_Portal_LangGraph_E2E/notebooks/data/recipes.pdf', 'total_pages': 178, 'page': 60, 'page_label': '45'}, page_content='45\\nStuffed Cauliflower Parantha'),\n",
       " Document(id='94ce773a-3752-423a-b636-84f010973e6f', metadata={'producer': 'Adobe PDF Library 15.0', 'creator': 'Adobe InDesign 14.0 (Windows)', 'creationdate': '2020-02-13T10:52:54+05:30', 'moddate': '2020-02-13T10:53:27+05:30', 'trapped': '/False', 'source': '/Users/arindam/Machine Learning/GenAI_2025/AgenticAI/4_Agentic_Document_Portal_LangGraph_E2E/notebooks/data/recipes.pdf', 'total_pages': 178, 'page': 62, 'page_label': '47'}, page_content='47\\nStuffed Radish Parantha'),\n",
       " Document(id='8ce56c0d-e5d1-4d10-a914-70395ddcc13f', metadata={'producer': 'Adobe PDF Library 15.0', 'creator': 'Adobe InDesign 14.0 (Windows)', 'creationdate': '2020-02-13T10:52:54+05:30', 'moddate': '2020-02-13T10:53:27+05:30', 'trapped': '/False', 'source': '/Users/arindam/Machine Learning/GenAI_2025/AgenticAI/4_Agentic_Document_Portal_LangGraph_E2E/notebooks/data/recipes.pdf', 'total_pages': 178, 'page': 59, 'page_label': '44'}, page_content='44\\nStuffed Cauliflower Parantha\\nNutritive value per serving Ingredients    Weight   Measure/No.\\nWheat flour    100 g    3/4 cup\\nGrated cauliflower   170 g    1 cup\\nOil       15 ml    1 tbsp\\nGreen chillies    4 g    2 piece\\nGinger paste    2 g    ½ tsp\\nCoriander leaves    2 g     A few\\nTurmeric powder   0.50 g    ¼ tsp\\nCarom seeds    0.25 g    ½ tsp\\nBlack cumin seeds   0.25 g    ½ tsp\\nLemon juice    0.25 ml   ¼ tsp\\nWater (as required)   90 ml    1/3 cup (aprx.)\\nSalt      to taste   to taste'),\n",
       " Document(id='f0b07bc1-33cb-4dad-8445-26edf207b772', metadata={'producer': 'Adobe PDF Library 15.0', 'creator': 'Adobe InDesign 14.0 (Windows)', 'creationdate': '2020-02-13T10:52:54+05:30', 'moddate': '2020-02-13T10:53:27+05:30', 'trapped': '/False', 'source': '/Users/arindam/Machine Learning/GenAI_2025/AgenticAI/4_Agentic_Document_Portal_LangGraph_E2E/notebooks/data/recipes.pdf', 'total_pages': 178, 'page': 58, 'page_label': '43'}, page_content='43\\nPaustic Palak Parantha')]"
      ]
     },
     "execution_count": 9,
     "metadata": {},
     "output_type": "execute_result"
    }
   ],
   "source": [
    "vectorstore.similarity_search(\"How to make Stuffed Cauliflower Parantha?\")"
   ]
  },
  {
   "cell_type": "code",
   "execution_count": 10,
   "id": "2c5bfa62",
   "metadata": {},
   "outputs": [
    {
     "data": {
      "text/plain": [
       "[Document(id='3983a019-fc81-443c-be5a-cedf1dff1d73', metadata={'producer': 'Adobe PDF Library 15.0', 'creator': 'Adobe InDesign 14.0 (Windows)', 'creationdate': '2020-02-13T10:52:54+05:30', 'moddate': '2020-02-13T10:53:27+05:30', 'trapped': '/False', 'source': '/Users/arindam/Machine Learning/GenAI_2025/AgenticAI/4_Agentic_Document_Portal_LangGraph_E2E/notebooks/data/recipes.pdf', 'total_pages': 178, 'page': 60, 'page_label': '45'}, page_content='45\\nStuffed Cauliflower Parantha'),\n",
       " Document(id='94ce773a-3752-423a-b636-84f010973e6f', metadata={'producer': 'Adobe PDF Library 15.0', 'creator': 'Adobe InDesign 14.0 (Windows)', 'creationdate': '2020-02-13T10:52:54+05:30', 'moddate': '2020-02-13T10:53:27+05:30', 'trapped': '/False', 'source': '/Users/arindam/Machine Learning/GenAI_2025/AgenticAI/4_Agentic_Document_Portal_LangGraph_E2E/notebooks/data/recipes.pdf', 'total_pages': 178, 'page': 62, 'page_label': '47'}, page_content='47\\nStuffed Radish Parantha'),\n",
       " Document(id='8ce56c0d-e5d1-4d10-a914-70395ddcc13f', metadata={'producer': 'Adobe PDF Library 15.0', 'creator': 'Adobe InDesign 14.0 (Windows)', 'creationdate': '2020-02-13T10:52:54+05:30', 'moddate': '2020-02-13T10:53:27+05:30', 'trapped': '/False', 'source': '/Users/arindam/Machine Learning/GenAI_2025/AgenticAI/4_Agentic_Document_Portal_LangGraph_E2E/notebooks/data/recipes.pdf', 'total_pages': 178, 'page': 59, 'page_label': '44'}, page_content='44\\nStuffed Cauliflower Parantha\\nNutritive value per serving Ingredients    Weight   Measure/No.\\nWheat flour    100 g    3/4 cup\\nGrated cauliflower   170 g    1 cup\\nOil       15 ml    1 tbsp\\nGreen chillies    4 g    2 piece\\nGinger paste    2 g    ½ tsp\\nCoriander leaves    2 g     A few\\nTurmeric powder   0.50 g    ¼ tsp\\nCarom seeds    0.25 g    ½ tsp\\nBlack cumin seeds   0.25 g    ½ tsp\\nLemon juice    0.25 ml   ¼ tsp\\nWater (as required)   90 ml    1/3 cup (aprx.)\\nSalt      to taste   to taste'),\n",
       " Document(id='f0b07bc1-33cb-4dad-8445-26edf207b772', metadata={'producer': 'Adobe PDF Library 15.0', 'creator': 'Adobe InDesign 14.0 (Windows)', 'creationdate': '2020-02-13T10:52:54+05:30', 'moddate': '2020-02-13T10:53:27+05:30', 'trapped': '/False', 'source': '/Users/arindam/Machine Learning/GenAI_2025/AgenticAI/4_Agentic_Document_Portal_LangGraph_E2E/notebooks/data/recipes.pdf', 'total_pages': 178, 'page': 58, 'page_label': '43'}, page_content='43\\nPaustic Palak Parantha')]"
      ]
     },
     "execution_count": 10,
     "metadata": {},
     "output_type": "execute_result"
    }
   ],
   "source": [
    "retriever= vectorstore.as_retriever()\n",
    "retriever.invoke(\"How to make Stuffed Cauliflower Parantha?\")"
   ]
  },
  {
   "cell_type": "code",
   "execution_count": 12,
   "id": "66f5917a",
   "metadata": {},
   "outputs": [],
   "source": [
    "prompt = \"\"\"\n",
    "    You are a helpful assistant that answers questions based on the provided context.\n",
    "    if the context does not contain enough information to answer the question, respond with \"I don't know\".\n",
    "    Context: {context}\n",
    "    Question: {question}\n",
    "    Answer:\n",
    "\"\"\""
   ]
  },
  {
   "cell_type": "code",
   "execution_count": 13,
   "id": "92a28c51",
   "metadata": {},
   "outputs": [],
   "source": [
    "from langchain.prompts import PromptTemplate\n",
    "prompt_template = PromptTemplate(\n",
    "    input_variables=[\"context\", \"question\"],\n",
    "    template=prompt\n",
    ")"
   ]
  },
  {
   "cell_type": "code",
   "execution_count": 14,
   "id": "147ce925",
   "metadata": {},
   "outputs": [
    {
     "data": {
      "text/plain": [
       "PromptTemplate(input_variables=['context', 'question'], input_types={}, partial_variables={}, template='\\n    You are a helpful assistant that answers questions based on the provided context.\\n    if the context does not contain enough information to answer the question, respond with \"I don\\'t know\".\\n    Context: {context}\\n    Question: {question}\\n    Answer:\\n')"
      ]
     },
     "execution_count": 14,
     "metadata": {},
     "output_type": "execute_result"
    }
   ],
   "source": [
    "prompt_template"
   ]
  },
  {
   "cell_type": "code",
   "execution_count": 1,
   "id": "29be2fc7",
   "metadata": {},
   "outputs": [
    {
     "ename": "ModuleNotFoundError",
     "evalue": "No module named 'langchain.core'",
     "output_type": "error",
     "traceback": [
      "\u001b[31m---------------------------------------------------------------------------\u001b[39m",
      "\u001b[31mModuleNotFoundError\u001b[39m                       Traceback (most recent call last)",
      "\u001b[36mCell\u001b[39m\u001b[36m \u001b[39m\u001b[32mIn[1]\u001b[39m\u001b[32m, line 1\u001b[39m\n\u001b[32m----> \u001b[39m\u001b[32m1\u001b[39m \u001b[38;5;28;01mfrom\u001b[39;00m\u001b[38;5;250m \u001b[39m\u001b[34;01mlangchain\u001b[39;00m\u001b[34;01m.\u001b[39;00m\u001b[34;01mcore\u001b[39;00m\u001b[34;01m.\u001b[39;00m\u001b[34;01moutput_parsers\u001b[39;00m\u001b[38;5;250m \u001b[39m\u001b[38;5;28;01mimport\u001b[39;00m StrOutputParser\n\u001b[32m      2\u001b[39m output_parser = StrOutputParser()\n",
      "\u001b[31mModuleNotFoundError\u001b[39m: No module named 'langchain.core'"
     ]
    }
   ],
   "source": [
    "from langchain.core.output_parsers import StrOutputParser\n",
    "output_parser = StrOutputParser()"
   ]
  },
  {
   "cell_type": "code",
   "execution_count": null,
   "id": "8195c175",
   "metadata": {},
   "outputs": [],
   "source": []
  }
 ],
 "metadata": {
  "kernelspec": {
   "display_name": "venv",
   "language": "python",
   "name": "python3"
  },
  "language_info": {
   "codemirror_mode": {
    "name": "ipython",
    "version": 3
   },
   "file_extension": ".py",
   "mimetype": "text/x-python",
   "name": "python",
   "nbconvert_exporter": "python",
   "pygments_lexer": "ipython3",
   "version": "3.12.0"
  }
 },
 "nbformat": 4,
 "nbformat_minor": 5
}
